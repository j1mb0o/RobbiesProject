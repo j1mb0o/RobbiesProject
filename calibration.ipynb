{
 "cells": [
  {
   "cell_type": "code",
   "execution_count": 1,
   "metadata": {},
   "outputs": [
    {
     "name": "stdout",
     "output_type": "stream",
     "text": [
      "/dev/ttyACM1\n"
     ]
    }
   ],
   "source": [
    "!ls /dev/ttyACM*"
   ]
  },
  {
   "cell_type": "code",
   "execution_count": 12,
   "metadata": {},
   "outputs": [],
   "source": [
    "import pyfirmata\n",
    "\n",
    "board = pyfirmata.Arduino('/dev/ttyACM1')\n",
    "it = pyfirmata.util.Iterator(board)\n",
    "it.start()\n",
    "\n",
    "# Define pins\n",
    "pin_1 = board.get_pin('d:10:s')\n",
    "\n",
    "pin_1.write(90)"
   ]
  },
  {
   "cell_type": "code",
   "execution_count": 13,
   "metadata": {},
   "outputs": [],
   "source": [
    "import pyfirmata\n",
    "\n",
    "board = pyfirmata.Arduino('/dev/ttyACM1')\n",
    "it = pyfirmata.util.Iterator(board)\n",
    "it.start()\n",
    "\n",
    "# Define pins\n",
    "pin_1 = board.get_pin('d:12:s')\n",
    "\n",
    "pin_1.write(180-90)"
   ]
  },
  {
   "cell_type": "code",
   "execution_count": 14,
   "metadata": {},
   "outputs": [],
   "source": [
    "import pyfirmata\n",
    "\n",
    "board = pyfirmata.Arduino('/dev/ttyACM1')\n",
    "it = pyfirmata.util.Iterator(board)\n",
    "it.start()\n",
    "\n",
    "# Define pins\n",
    "pin_1 = board.get_pin('d:7:s')\n",
    "\n",
    "pin_1.write(90)"
   ]
  },
  {
   "cell_type": "code",
   "execution_count": null,
   "metadata": {},
   "outputs": [],
   "source": [
    "import pyfirmata\n",
    "\n",
    "board = pyfirmata.Arduino('/dev/ttyACM1')\n",
    "it = pyfirmata.util.Iterator(board)\n",
    "it.start()\n",
    "\n",
    "# Define pins\n",
    "pin_1 = board.get_pin('d:7:s')\n",
    "\n",
    "pin_1.write(80)"
   ]
  }
 ],
 "metadata": {
  "kernelspec": {
   "display_name": ".venv",
   "language": "python",
   "name": "python3"
  },
  "language_info": {
   "codemirror_mode": {
    "name": "ipython",
    "version": 3
   },
   "file_extension": ".py",
   "mimetype": "text/x-python",
   "name": "python",
   "nbconvert_exporter": "python",
   "pygments_lexer": "ipython3",
   "version": "3.10.6"
  },
  "orig_nbformat": 4
 },
 "nbformat": 4,
 "nbformat_minor": 2
}
