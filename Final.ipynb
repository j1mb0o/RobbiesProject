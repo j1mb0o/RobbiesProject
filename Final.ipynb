{
 "cells": [
  {
   "attachments": {},
   "cell_type": "markdown",
   "metadata": {},
   "source": [
    "# Preprocessing of the image"
   ]
  },
  {
   "cell_type": "code",
   "execution_count": 2,
   "metadata": {},
   "outputs": [
    {
     "ename": "ModuleNotFoundError",
     "evalue": "No module named 'numpy'",
     "output_type": "error",
     "traceback": [
      "\u001b[0;31m---------------------------------------------------------------------------\u001b[0m",
      "\u001b[0;31mModuleNotFoundError\u001b[0m                       Traceback (most recent call last)",
      "Cell \u001b[0;32mIn[2], line 1\u001b[0m\n\u001b[0;32m----> 1\u001b[0m \u001b[39mfrom\u001b[39;00m \u001b[39mnumpy\u001b[39;00m \u001b[39mimport\u001b[39;00m \u001b[39m*\u001b[39m\n\u001b[1;32m      2\u001b[0m \u001b[39mimport\u001b[39;00m \u001b[39mmath\u001b[39;00m\n\u001b[1;32m      3\u001b[0m \u001b[39mimport\u001b[39;00m \u001b[39mnumpy\u001b[39;00m \u001b[39mas\u001b[39;00m \u001b[39mnp\u001b[39;00m\n",
      "\u001b[0;31mModuleNotFoundError\u001b[0m: No module named 'numpy'"
     ]
    }
   ],
   "source": [
    "from numpy import *\n",
    "import math\n",
    "import numpy as np\n",
    "import cv2 as cv\n",
    "from matplotlib import pyplot as plt\n",
    "\n",
    "#Canny Edge Detection START\n",
    "\n",
    "img = cv.imread('assets/mickey2.png', 0)\n",
    "edges = cv.Canny(img,100,100)  #If we decrease any threshold more detailed image\n",
    "\n",
    "# Skip every n-th point along the edges\n",
    "n = 10\n",
    "reduced_edges2 = np.zeros_like(edges)\n",
    "for row in range(edges.shape[0]):\n",
    "    reduced_edges2[row, np.arange(0, edges.shape[1], n)] = edges[row, np.arange(0, edges.shape[1], n)]\n",
    "\n",
    "# plt.subplot(131),plt.imshow(img,cmap = 'gray')\n",
    "# plt.title('Original Image'), plt.xticks([]), plt.yticks([])\n",
    "# plt.subplot(132),plt.imshow(edges,cmap = 'gray')\n",
    "# plt.title('Edges'), plt.xticks([]), plt.yticks([])\n",
    "# plt.subplot(133),plt.imshow(reduced_edges2,cmap = 'gray')\n",
    "# plt.title(f'Edges Reduced by {n} p'), plt.xticks([]), plt.yticks([])\n",
    "# plt.show()\n",
    "\n",
    "\n",
    "#Canny Edge Detection END\n",
    "\n",
    "a1 = 0  # length of link a1 in cm #AKINITO agnoiste to-oti timi ke na tu valoume den allazei to apotelesma\n",
    "a2 = 13 # length of link a2 in cm # 1o link\n",
    "a3 = 0  # length of link a3 in cm #Den exume 3o link emeis opote giafto eine 0\n",
    "a4 = 15.5 # length of link a4 in cm #2o link\n",
    "\n",
    "\n",
    "\n",
    "l=math.cos(math.pi/4)*(a2+a4) #h kolla mas eine l*l\n",
    "\n",
    "m1=len(reduced_edges2) #diastaseis tou reduced_edges2 x-axis\n",
    "m2=len(reduced_edges2[0]) #diastaseis tou reduced_edges2 y-axis\n",
    "#scale stis diastaseis tin kollas mas\n",
    "if m1>m2:\n",
    "    l1=l\n",
    "    l2=l*m2/m1 \n",
    "else:\n",
    "    l2=l\n",
    "    l1=l*m1/m2\n",
    "\n",
    "\n",
    "\n",
    "y_axis_lambda=l2/len(reduced_edges2) \n",
    "x_axis_lambda=l1/len(reduced_edges2[0])\n",
    "\n",
    "x_points=[]\n",
    "y_points=[]\n",
    "for i in range(len(reduced_edges2)):\n",
    "    for j in range(len(reduced_edges2[0])):\n",
    "        if reduced_edges2[i][j]==255:\n",
    "            x_points.append(l1-j*x_axis_lambda)\n",
    "            y_points.append(l2-i*y_axis_lambda)\n",
    "\n",
    "# Desired Position of End effector\n",
    "x = [-k for k in x_points] #because our Xs are negative\n",
    "y = y_points\n",
    "\n",
    "theta_1 = []\n",
    "theta_2 = []\n",
    "thetas = []\n",
    "for i in range(len(x)):\n",
    "    # Equations for Inverse kinematics\n",
    "    r1 = sqrt(x[i]**2+y[i]**2)  # eqn 1\n",
    "    phi_1 = arccos((a4**2-a2**2-r1**2)/(-2*a2*r1))  # eqn 2\n",
    "    phi_2 = arctan2(y[i], x[i])  # eqn 3\n",
    "    theta_1.append(rad2deg(phi_2-phi_1))  # eqn 4 converted to degrees\n",
    "\n",
    "    phi_3 = arccos((r1**2-a2**2-a4**2)/(-2*a2*a4))\n",
    "    theta_2.append(180-rad2deg(phi_3))\n",
    "    if not np.isnan(theta_1[i]) and not np.isnan(theta_2[i]):\n",
    "        # thetas.append((theta_1, theta_2))\n",
    "        thetas.append((theta_1[i], theta_2[i]))\n",
    "# print('theta one: ', theta_1) #servo 1\n",
    "# print('theta two: ', theta_2) #servo 2\n",
    "\n",
    "\n"
   ]
  },
  {
   "cell_type": "code",
   "execution_count": null,
   "metadata": {},
   "outputs": [],
   "source": [
    "#write txt file for theta_1 values (servo 1)\n",
    "with open(r'theta_1.txt', 'w') as fp:\n",
    "    for item in theta_1:\n",
    "        # write each item on a new line\n",
    "        fp.write(\"%s\\n\" % item)\n",
    "fp.close()\n",
    "\n",
    "#write txt file for theta_2 values(servo 2)\n",
    "with open(r'theta_2.txt', 'w') as fp2:\n",
    "    for item2 in theta_2:\n",
    "        # write each item on a new line\n",
    "        fp2.write(\"%s\\n\" % item2)\n",
    "fp2.close()\n",
    "with open(r'thetas.txt', 'w') as fp3:\n",
    "    for item3 in thetas:\n",
    "        # write each item on a new line\n",
    "        fp3.write(f\"{item3[0]} {item3[1]}\\n\")"
   ]
  },
  {
   "cell_type": "code",
   "execution_count": 24,
   "metadata": {},
   "outputs": [
    {
     "data": {
      "text/plain": [
       "<matplotlib.collections.PathCollection at 0x7f2ca472a320>"
      ]
     },
     "execution_count": 24,
     "metadata": {},
     "output_type": "execute_result"
    },
    {
     "data": {
      "image/png": "[encoded data removed]",
      "text/plain": [
       "<Figure size 640x480 with 1 Axes>"
      ]
     },
     "metadata": {},
     "output_type": "display_data"
    }
   ],
   "source": [
    "plt.scatter(x, y, s=1)"
   ]
  },
  {
   "attachments": {},
   "cell_type": "markdown",
   "metadata": {},
   "source": [
    "# Servos Calibration"
   ]
  },
  {
   "cell_type": "code",
   "execution_count": 25,
   "metadata": {},
   "outputs": [
    {
     "name": "stdout",
     "output_type": "stream",
     "text": [
      "/dev/ttyACM1\n"
     ]
    }
   ],
   "source": [
    "!ls /dev/ttyACM*"
   ]
  },
  {
   "cell_type": "code",
   "execution_count": 27,
   "metadata": {},
   "outputs": [],
   "source": [
    "import pyfirmata\n",
    "from time import sleep\n",
    "\n",
    "board = pyfirmata.Arduino('/dev/ttyACM1')\n",
    "\n",
    "it = pyfirmata.util.Iterator(board)\n",
    "\n",
    "# input('Press ENTER to start the servo motor, be careful!')\n",
    "\n",
    "it.start()\n",
    "\n",
    "# Define pins\n",
    "pin0 = board.get_pin('d:10:s')\n",
    "pin1 = board.get_pin('d:12:s')\n",
    "pin2 = board.get_pin('d:7:s')\n",
    "\n",
    "# pin0.write(90)\n",
    "# sleep(3)\n",
    "# pin1.write(180-90)\n",
    "# sleep(3)\n",
    "# pin2.write(90)"
   ]
  },
  {
   "attachments": {},
   "cell_type": "markdown",
   "metadata": {},
   "source": [
    "## Set the two servos to 90 degrees and then attach the link"
   ]
  },
  {
   "cell_type": "code",
   "execution_count": 28,
   "metadata": {},
   "outputs": [],
   "source": [
    "pin0.write(90)"
   ]
  },
  {
   "cell_type": "code",
   "execution_count": 35,
   "metadata": {},
   "outputs": [],
   "source": [
    "pin1.write(180-90)"
   ]
  },
  {
   "attachments": {},
   "cell_type": "markdown",
   "metadata": {},
   "source": [
    "## Pen shouldn't touch the paper"
   ]
  },
  {
   "cell_type": "code",
   "execution_count": 34,
   "metadata": {},
   "outputs": [],
   "source": [
    "pin2.write(60)"
   ]
  },
  {
   "attachments": {},
   "cell_type": "markdown",
   "metadata": {},
   "source": [
    "## Pen should touch the paper"
   ]
  },
  {
   "cell_type": "code",
   "execution_count": 30,
   "metadata": {},
   "outputs": [],
   "source": [
    "pin2.write(80)"
   ]
  },
  {
   "attachments": {},
   "cell_type": "markdown",
   "metadata": {},
   "source": [
    "# Processing the theta values, make them int and remove the duplicates"
   ]
  },
  {
   "cell_type": "code",
   "execution_count": 32,
   "metadata": {},
   "outputs": [],
   "source": [
    "int_thetas = [(round(theta_pair[0]), round(theta_pair[1])) for theta_pair in thetas]\n",
    "unique_thetas = []\n",
    "\n",
    "for theta in int_thetas:\n",
    "    if theta not in unique_thetas:\n",
    "        unique_thetas.append(theta)"
   ]
  },
  {
   "cell_type": "code",
   "execution_count": null,
   "metadata": {},
   "outputs": [],
   "source": [
    "with open(r'int_thetas.txt', 'w') as fp3:\n",
    "    for item3 in int_thetas:\n",
    "        # write each item on a new line\n",
    "        fp3.write(f\"{item3[0]} {item3[1]}\\n\")\n",
    "\n",
    "with open(r'unique_thetas.txt', 'w') as fp3:\n",
    "    for item3 in unique_thetas:\n",
    "        # write each item on a new line\n",
    "        fp3.write(f\"{item3[0]} {item3[1]}\\n\")"
   ]
  },
  {
   "attachments": {},
   "cell_type": "markdown",
   "metadata": {},
   "source": [
    "# Start Plotting"
   ]
  },
  {
   "cell_type": "code",
   "execution_count": null,
   "metadata": {},
   "outputs": [],
   "source": [
    "cnt = 0\n",
    "for (theta1, theta2) in unique_thetas:\n",
    "    \n",
    "    pin0.write(theta1)\n",
    "    sleep(1)\n",
    "    pin1.write(180-theta2)\n",
    "    sleep(2)\n",
    "    # pen down\n",
    "    pin2.write(80)\n",
    "    sleep(2)\n",
    "    # pen up\n",
    "    pin2.write(60)\n",
    "    sleep(2)\n",
    "    cnt += 1\n",
    "    if cnt % 10 == 0:\n",
    "        print(f'Finished {cnt} points')\n",
    "#     # input('Press ENTER to continue')\n",
    "sleep(1)\n",
    "pin0.write(70)\n",
    "sleep(1)\n",
    "pin1.write(180-40)\n"
   ]
  }
 ],
 "metadata": {
  "kernelspec": {
   "display_name": ".venv",
   "language": "python",
   "name": "python3"
  },
  "language_info": {
   "codemirror_mode": {
    "name": "ipython",
    "version": 3
   },
   "file_extension": ".py",
   "mimetype": "text/x-python",
   "name": "python",
   "nbconvert_exporter": "python",
   "pygments_lexer": "ipython3",
   "version": "3.10.6"
  },
  "orig_nbformat": 4
 },
 "nbformat": 4,
 "nbformat_minor": 2
}
